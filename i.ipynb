{
 "cells": [
  {
   "cell_type": "code",
   "execution_count": 2,
   "metadata": {},
   "outputs": [
    {
     "name": "stdout",
     "output_type": "stream",
     "text": [
      "Data saved to missions_data.xlsx\n"
     ]
    }
   ],
   "source": [
    "import pandas as pd\n",
    "from datetime import datetime\n",
    "\n",
    "# Sample data\n",
    "total = 100\n",
    "rating = 4.5\n",
    "time = datetime.now()\n",
    "date_debut = datetime(2024, 8, 1).date()\n",
    "date_fin = datetime(2024, 8, 2).date()\n",
    "mission_type = 'Exploration'\n",
    "saison = 'Ete'\n",
    "type_drone = 'DroneA'\n",
    "\n",
    " \n",
    "\n",
    "# New data dictionary\n",
    "new_data = {\n",
    "    'Total': total,\n",
    "    'Rating': rating,\n",
    "    'Time': time.strftime(\"%H:%M:%S\"),\n",
    "    'DateDebut': date_debut,\n",
    "    'DateFin': date_fin,\n",
    "    'MissionType': mission_type,\n",
    "    'Saison': saison,\n",
    "    'TypeDrone': type_drone,\n",
    "    'Drone': 2,\n",
    "    'Plongeur': 2,\n",
    "    'Roche': 2,\n",
    "    'Bateau': 2,\n",
    "    'Poisson': 2,\n",
    "    'Corail': 2,\n",
    "    'Tortue': 2,\n",
    "    'Asterie': 2,\n",
    "    'Avion': 2\n",
    "}\n",
    "\n",
    "# Create a DataFrame\n",
    "df = pd.DataFrame([new_data])\n",
    "\n",
    "# Define file path\n",
    "file_path = 'missions_data.xlsx'\n",
    "\n",
    "# Save DataFrame to an Excel file\n",
    "with pd.ExcelWriter(file_path, engine='openpyxl') as writer:\n",
    "    df.to_excel(writer, sheet_name='Sheet', index=False)\n",
    "\n",
    "print(f\"Data saved to {file_path}\")\n"
   ]
  }
 ],
 "metadata": {
  "kernelspec": {
   "display_name": "pfe",
   "language": "python",
   "name": "python3"
  },
  "language_info": {
   "codemirror_mode": {
    "name": "ipython",
    "version": 3
   },
   "file_extension": ".py",
   "mimetype": "text/x-python",
   "name": "python",
   "nbconvert_exporter": "python",
   "pygments_lexer": "ipython3",
   "version": "3.9.6"
  }
 },
 "nbformat": 4,
 "nbformat_minor": 2
}
